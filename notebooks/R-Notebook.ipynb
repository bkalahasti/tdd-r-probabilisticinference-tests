{
 "cells": [
  {
   "cell_type": "markdown",
   "metadata": {},
   "source": [
    "# This is an example of pseudo-vectorization using lapply function on a list.\n",
    "\n",
    "The following function applies a function to each element of a list and returns the results of the function application as a list. "
   ]
  },
  {
   "cell_type": "code",
   "execution_count": 39,
   "metadata": {},
   "outputs": [
    {
     "name": "stderr",
     "output_type": "stream",
     "text": [
      "List is c(-5, -4, -3, -2, -1, 0, 1, 2, 3, 4, 5)\n",
      "List positives are c(FALSE, FALSE, FALSE, FALSE, FALSE, FALSE, TRUE, TRUE, TRUE, TRUE, TRUE)\n"
     ]
    }
   ],
   "source": [
    "l <- list(seq.int(-5, 5, 1))\n",
    "message(\"List is \", l)\n",
    "message(\"List positives are \", lapply(l, (function(x) x > 0)))"
   ]
  },
  {
   "cell_type": "markdown",
   "metadata": {},
   "source": [
    "# This is an example of pseudo-vectorization using vapply function on a list.\n",
    "\n",
    "The following function applies a function to each element of a list and returns the results of the function application as a vector or an array.\n"
   ]
  },
  {
   "cell_type": "code",
   "execution_count": 40,
   "metadata": {},
   "outputs": [
    {
     "name": "stderr",
     "output_type": "stream",
     "text": [
      "List is c(-5, -4, -3, -2, -1, 0, 1, 2, 3, 4, 5)\n",
      "List positives are c(FALSE, FALSE, FALSE, FALSE, FALSE, FALSE, TRUE, TRUE, TRUE, TRUE, TRUE)\n"
     ]
    }
   ],
   "source": [
    "l <- list(seq.int(-5, 5, 1))\n",
    "message(\"List is \", l)\n",
    "message(\"List positives are \", list(vapply(l, (function(x) x > 0), logical(11))))"
   ]
  },
  {
   "cell_type": "markdown",
   "metadata": {},
   "source": [
    "# This is an example of pseudo-vectorization using sapply function on a list.\n",
    "\n",
    "The following function applies a function to each element of a list and returns the results of the function application as a vector or an array.\n"
   ]
  },
  {
   "cell_type": "code",
   "execution_count": 41,
   "metadata": {},
   "outputs": [
    {
     "name": "stderr",
     "output_type": "stream",
     "text": [
      "List is c(-5, -4, -3, -2, -1, 0, 1, 2, 3, 4, 5)\n",
      "List positives are c(FALSE, FALSE, FALSE, FALSE, FALSE, FALSE, TRUE, TRUE, TRUE, TRUE, TRUE)\n"
     ]
    }
   ],
   "source": [
    "l <- list(seq.int(-5, 5, 1))\n",
    "message(\"List is \", l)\n",
    "message(\"List positives are \", list(sapply(l, (function(x) x > 0))))"
   ]
  },
  {
   "cell_type": "markdown",
   "metadata": {},
   "source": [
    "# This is an example of pseudo-vectorization using apply function on an array.\n",
    "\n",
    "The following function applies a function to each element of an array's row or column and returns the results of the function application as a vector.\n"
   ]
  },
  {
   "cell_type": "code",
   "execution_count": 42,
   "metadata": {},
   "outputs": [
    {
     "name": "stderr",
     "output_type": "stream",
     "text": [
      "Array row sum is c(28, 32, 36, 40)\n",
      "Array column sum is c(10, 26, 42, 58)\n"
     ]
    }
   ],
   "source": [
    "m <- array(1:16, dim = c(4,4))\n",
    "message(\"Array row sum is \", list(apply(m, 1, sum)))\n",
    "m <- array(1:16, dim = c(4,4))\n",
    "message(\"Array column sum is \", list(apply(m, 2, sum)))"
   ]
  },
  {
   "cell_type": "markdown",
   "metadata": {},
   "source": [
    "# This is an example of split-apply-combine using tapply function on a dataframe.\n",
    "\n",
    "The following function splits a dataframe, applies a function to the split groups and then collects the function application results into a list. The split-apply-combine approach is executed using tapply function. \n"
   ]
  },
  {
   "cell_type": "code",
   "execution_count": 43,
   "metadata": {},
   "outputs": [
    {
     "name": "stderr",
     "output_type": "stream",
     "text": [
      "Split-apply-combine on df gives c(1, 2, 3, 4, 5, 6, 7, 8, 9, 10, 11, 12, 13, 14, 15, 16)\n"
     ]
    }
   ],
   "source": [
    "df <- data.frame(r1=1:16, r2=17:32)\n",
    "message(\"Split-apply-combine on df gives \", list(with(df, tapply(r1, r2, mean))))"
   ]
  }
 ],
 "metadata": {
  "kernelspec": {
   "display_name": "R",
   "language": "R",
   "name": "ir"
  },
  "language_info": {
   "codemirror_mode": "r",
   "file_extension": ".r",
   "mimetype": "text/x-r-source",
   "name": "R",
   "pygments_lexer": "r",
   "version": "3.4.1"
  }
 },
 "nbformat": 4,
 "nbformat_minor": 2
}
